{
 "cells": [
  {
   "cell_type": "markdown",
   "metadata": {},
   "source": [
    "#### Step 1 - Imports"
   ]
  },
  {
   "cell_type": "code",
   "execution_count": 1,
   "metadata": {},
   "outputs": [],
   "source": [
    "import requests\n",
    "import pandas as pd"
   ]
  },
  {
   "cell_type": "markdown",
   "metadata": {},
   "source": [
    "#### Step 2 - Requests & CURL"
   ]
  },
  {
   "cell_type": "code",
   "execution_count": 2,
   "metadata": {},
   "outputs": [],
   "source": [
    "params = (\n",
    "    ('ResultOrder', 'Popularity'),\n",
    "    ('CountryCode', 'DE'),\n",
    "    ('subjectId', '13'),\n",
    ")\n",
    "\n",
    "response = requests.get('https://www.ebooks.com/api/search/subject/', params=params)"
   ]
  },
  {
   "cell_type": "markdown",
   "metadata": {},
   "source": [
    "#### Step 3 - Check Status Code"
   ]
  },
  {
   "cell_type": "code",
   "execution_count": 3,
   "metadata": {},
   "outputs": [
    {
     "data": {
      "text/plain": [
       "<Response [200]>"
      ]
     },
     "execution_count": 3,
     "metadata": {},
     "output_type": "execute_result"
    }
   ],
   "source": [
    "response"
   ]
  },
  {
   "cell_type": "markdown",
   "metadata": {},
   "source": [
    "#### Step 4 - Create Json Object"
   ]
  },
  {
   "cell_type": "code",
   "execution_count": 4,
   "metadata": {},
   "outputs": [
    {
     "data": {
      "text/plain": [
       "{'search_term': None,\n",
       " 'start_record': 1,\n",
       " 'total_results': 51741,\n",
       " 'books': [{'id': 95729334,\n",
       "   'book_url': '/en-de/book/95729334/designing-data-intensive-applications/martin-kleppmann/',\n",
       "   'image_url': 'https://image.ebooks.com/previews/095/095729/095729334/095729334-sml-1.jpg',\n",
       "   'image_alt_tag': 'Designing Data-Intensive Applications: The Big Ideas Behind Reliable, Scalable, and Maintainable Systems',\n",
       "   'title': 'Designing Data-Intensive Applications',\n",
       "   'edition': '',\n",
       "   'subtitle': 'The Big Ideas Behind Reliable, Scalable, and Maintainable Systems',\n",
       "   'authors': [{'author_name': 'Martin Kleppmann',\n",
       "     'author_url': '/en-de/author/martin-kleppmann/1321307/'}],\n",
       "   'num_authors': 1,\n",
       "   'series': ' Series',\n",
       "   'series_number': '',\n",
       "   'has_series': False,\n",
       "   'series_url': '',\n",
       "   'publisher': \"O'Reilly Media\",\n",
       "   'publication_year': '2017',\n",
       "   'price': '14,34 €',\n",
       "   'desktop_short_description': 'Data is at the center of many challenges in system design today. Difficult issues need to be figured out, such as scalability, consistency, reliability, efficiency, and maintainability. In addition, we have an overwhelming variety of tools, including relational databases, NoSQL datastores, stream or batch processors, and message brokers. What are...',\n",
       "   'mobile_short_description': 'Data is at the center of many challenges in system design today. Difficult issues need to be figured...',\n",
       "   'is_preorder': False,\n",
       "   'is_available': True,\n",
       "   'preorder_url': '/account/preorder/?bookId=95729334',\n",
       "   'add_to_cart_url': '/cart/add/95729334/',\n",
       "   'currency_symbol': '€',\n",
       "   'price_number': 14.3431293339,\n",
       "   'on_sale_date': '2017-03-16T00:00:00'},\n",
       "  {'id': 95871448,\n",
       "   'book_url': '/en-de/book/95871448/python-for-data-analysis/wes-mckinney/',\n",
       "   'image_url': 'https://image.ebooks.com/previews/095/095871/095871448/095871448-sml-1.jpg',\n",
       "   'image_alt_tag': 'Python for Data Analysis: Data Wrangling with Pandas, NumPy, and IPython',\n",
       "   'title': 'Python for Data Analysis',\n",
       "   'edition': ' (2nd ed.)',\n",
       "   'subtitle': 'Data Wrangling with Pandas, NumPy, and IPython',\n",
       "   'authors': [{'author_name': 'Wes McKinney',\n",
       "     'author_url': '/en-de/author/wes-mckinney/513179/'}],\n",
       "   'num_authors': 1,\n",
       "   'series': ' Series',\n",
       "   'series_number': '',\n",
       "   'has_series': False,\n",
       "   'series_url': '',\n",
       "   'publisher': \"O'Reilly Media\",\n",
       "   'publication_year': '2017',\n",
       "   'price': '17,97 €',\n",
       "   'desktop_short_description': 'Get complete instructions for manipulating, processing, cleaning, and crunching datasets in Python. Updated for Python 3.6, the second edition of this hands-on guide is packed with practical case studies that show you how to solve a broad set of data analysis problems effectively. You’ll learn the latest versions of pandas, NumPy, IPython, and...',\n",
       "   'mobile_short_description': 'Get complete instructions for manipulating, processing, cleaning, and crunching datasets in Python....',\n",
       "   'is_preorder': False,\n",
       "   'is_available': True,\n",
       "   'preorder_url': '/account/preorder/?bookId=95871448',\n",
       "   'add_to_cart_url': '/cart/add/95871448/',\n",
       "   'currency_symbol': '€',\n",
       "   'price_number': 17.9725511439,\n",
       "   'on_sale_date': '2017-09-25T00:00:00'},\n",
       "  {'id': 210313783,\n",
       "   'book_url': '/en-de/book/210313783/programming-rust/jim-blandy/',\n",
       "   'image_url': 'https://image.ebooks.com/previews/210/210313/210313783/210313783-sml-1.jpg',\n",
       "   'image_alt_tag': 'Programming Rust',\n",
       "   'title': 'Programming Rust',\n",
       "   'edition': ' (2nd ed.)',\n",
       "   'subtitle': '',\n",
       "   'authors': [{'author_name': 'Jim Blandy',\n",
       "     'author_url': '/en-de/author/jim-blandy/94214791/'},\n",
       "    {'author_name': 'Jason Orendorff',\n",
       "     'author_url': '/en-de/author/jason-orendorff/94214792/'}],\n",
       "   'num_authors': 3,\n",
       "   'series': ' Series',\n",
       "   'series_number': '',\n",
       "   'has_series': False,\n",
       "   'series_url': '',\n",
       "   'publisher': \"O'Reilly Media\",\n",
       "   'publication_year': '2021',\n",
       "   'price': '21,43 €',\n",
       "   'desktop_short_description': \"Systems programming provides the foundation for the world's computation. Writing performance-sensitive code requires a programming language that puts programmers in control of how memory, processor time, and other system resources are used. The Rust systems programming language combines that control with a modern type system that catches broad...\",\n",
       "   'mobile_short_description': \"Systems programming provides the foundation for the world's computation. Writing...\",\n",
       "   'is_preorder': False,\n",
       "   'is_available': True,\n",
       "   'preorder_url': '/account/preorder/?bookId=210313783',\n",
       "   'add_to_cart_url': '/cart/add/210313783/',\n",
       "   'currency_symbol': '€',\n",
       "   'price_number': 21.4291433439,\n",
       "   'on_sale_date': '2021-06-11T00:00:00'},\n",
       "  {'id': 209820951,\n",
       "   'book_url': '/en-de/book/209820951/effective-typescript/dan-vanderkam/',\n",
       "   'image_url': 'https://image.ebooks.com/previews/209/209820/209820951/209820951-sml-1.jpg',\n",
       "   'image_alt_tag': 'Effective TypeScript: 62 Specific Ways to Improve Your TypeScript',\n",
       "   'title': 'Effective TypeScript',\n",
       "   'edition': '',\n",
       "   'subtitle': '62 Specific Ways to Improve Your TypeScript',\n",
       "   'authors': [{'author_name': 'Dan Vanderkam',\n",
       "     'author_url': '/en-de/author/dan-vanderkam/208299957/'}],\n",
       "   'num_authors': 1,\n",
       "   'series': ' Series',\n",
       "   'series_number': '',\n",
       "   'has_series': False,\n",
       "   'series_url': '',\n",
       "   'publisher': \"O'Reilly Media\",\n",
       "   'publication_year': '2019',\n",
       "   'price': '14,34 €',\n",
       "   'desktop_short_description': 'TypeScript is a typed superset of JavaScript with the potential to solve many of the headaches for which JavaScript is famous. But TypeScript has a learning curve of its own, and understanding how to use it effectively can take time. This book guides you through 62 specific ways to improve your use of TypeScript.  Author Dan Vanderkam, a principal...',\n",
       "   'mobile_short_description': 'TypeScript is a typed superset of JavaScript with the potential to solve many of the headaches for...',\n",
       "   'is_preorder': False,\n",
       "   'is_available': True,\n",
       "   'preorder_url': '/account/preorder/?bookId=209820951',\n",
       "   'add_to_cart_url': '/cart/add/209820951/',\n",
       "   'currency_symbol': '€',\n",
       "   'price_number': 14.3431293339,\n",
       "   'on_sale_date': '2019-10-17T00:00:00'},\n",
       "  {'id': 209779138,\n",
       "   'book_url': '/en-de/book/209779138/hands-on-machine-learning-with-scikit-learn-keras-and-tensorflow/aur-lien-g-ron/',\n",
       "   'image_url': 'https://image.ebooks.com/previews/209/209779/209779138/209779138-sml-1.jpg',\n",
       "   'image_alt_tag': 'Hands-On Machine Learning with Scikit-Learn, Keras, and TensorFlow: Concepts, Tools, and Techniques to Build Intelligent Systems',\n",
       "   'title': 'Hands-On Machine Learning with Scikit-Learn, Keras, and TensorFlow',\n",
       "   'edition': ' (2nd ed.)',\n",
       "   'subtitle': 'Concepts, Tools, and Techniques to Build Intelligent Systems',\n",
       "   'authors': [{'author_name': 'Aurélien Géron',\n",
       "     'author_url': '/en-de/author/aurélien-géron/1320636/'}],\n",
       "   'num_authors': 1,\n",
       "   'series': ' Series',\n",
       "   'series_number': '',\n",
       "   'has_series': False,\n",
       "   'series_url': '',\n",
       "   'publisher': \"O'Reilly Media\",\n",
       "   'publication_year': '2019',\n",
       "   'price': '25,06 €',\n",
       "   'desktop_short_description': 'Through a series of recent breakthroughs, deep learning has boosted the entire field of machine learning. Now, even programmers who know close to nothing about this technology can use simple, efficient tools to implement programs capable of learning from data. This practical book shows you how.  By using concrete examples, minimal theory, and two...',\n",
       "   'mobile_short_description': 'Through a series of recent breakthroughs, deep learning has boosted the entire field of machine...',\n",
       "   'is_preorder': False,\n",
       "   'is_available': True,\n",
       "   'preorder_url': '/account/preorder/?bookId=209779138',\n",
       "   'add_to_cart_url': '/cart/add/209779138/',\n",
       "   'currency_symbol': '€',\n",
       "   'price_number': 25.0585651539,\n",
       "   'on_sale_date': '2019-09-05T00:00:00'},\n",
       "  {'id': 209663126,\n",
       "   'book_url': '/en-de/book/209663126/data-science-from-scratch/joel-grus/',\n",
       "   'image_url': 'https://image.ebooks.com/previews/209/209663/209663126/209663126-sml-1.jpg',\n",
       "   'image_alt_tag': 'Data Science from Scratch: First Principles with Python',\n",
       "   'title': 'Data Science from Scratch',\n",
       "   'edition': ' (2nd ed.)',\n",
       "   'subtitle': 'First Principles with Python',\n",
       "   'authors': [{'author_name': 'Joel Grus',\n",
       "     'author_url': '/en-de/author/joel-grus/935372/'}],\n",
       "   'num_authors': 1,\n",
       "   'series': ' Series',\n",
       "   'series_number': '',\n",
       "   'has_series': False,\n",
       "   'series_url': '',\n",
       "   'publisher': \"O'Reilly Media\",\n",
       "   'publication_year': '2019',\n",
       "   'price': '21,43 €',\n",
       "   'desktop_short_description': 'Data science libraries, frameworks, modules, and toolkits are great for doing data science, but they’re also a good way to dive into the discipline without actually understanding data science. With this updated second edition, you’ll learn how many of the most fundamental data science tools and algorithms work by implementing them from scratch.  If...',\n",
       "   'mobile_short_description': 'Data science libraries, frameworks, modules, and toolkits are great for doing data science, but...',\n",
       "   'is_preorder': False,\n",
       "   'is_available': True,\n",
       "   'preorder_url': '/account/preorder/?bookId=209663126',\n",
       "   'add_to_cart_url': '/cart/add/209663126/',\n",
       "   'currency_symbol': '€',\n",
       "   'price_number': 21.4291433439,\n",
       "   'on_sale_date': '2019-04-12T00:00:00'},\n",
       "  {'id': 210338899,\n",
       "   'book_url': '/en-de/book/210338899/building-microservices/sam-newman/',\n",
       "   'image_url': 'https://image.ebooks.com/previews/210/210338/210338899/210338899-sml-1.jpg',\n",
       "   'image_alt_tag': 'Building Microservices',\n",
       "   'title': 'Building Microservices',\n",
       "   'edition': ' (2nd ed.)',\n",
       "   'subtitle': '',\n",
       "   'authors': [{'author_name': 'Sam Newman',\n",
       "     'author_url': '/en-de/author/sam-newman/748359/'}],\n",
       "   'num_authors': 1,\n",
       "   'series': ' Series',\n",
       "   'series_number': '',\n",
       "   'has_series': False,\n",
       "   'series_url': '',\n",
       "   'publisher': \"O'Reilly Media\",\n",
       "   'publication_year': '2021',\n",
       "   'price': '21,43 €',\n",
       "   'desktop_short_description': 'As organizations shift from monolithic applications to smaller, self-contained microservices, distributed systems have become more fine-grained. But developing these new systems brings its own host of problems. This expanded second edition takes a holistic view of topics that you need to consider when building, managing, and scaling microservices...',\n",
       "   'mobile_short_description': 'As organizations shift from monolithic applications to smaller, self-contained microservices,...',\n",
       "   'is_preorder': False,\n",
       "   'is_available': True,\n",
       "   'preorder_url': '/account/preorder/?bookId=210338899',\n",
       "   'add_to_cart_url': '/cart/add/210338899/',\n",
       "   'currency_symbol': '€',\n",
       "   'price_number': 21.4291433439,\n",
       "   'on_sale_date': '2021-07-24T00:00:00'},\n",
       "  {'id': 210239573,\n",
       "   'book_url': '/en-de/book/210239573/python-for-excel/felix-zumstein/',\n",
       "   'image_url': 'https://image.ebooks.com/previews/210/210239/210239573/210239573-sml-1.jpg',\n",
       "   'image_alt_tag': 'Python for Excel',\n",
       "   'title': 'Python for Excel',\n",
       "   'edition': '',\n",
       "   'subtitle': '',\n",
       "   'authors': [{'author_name': 'Felix Zumstein',\n",
       "     'author_url': '/en-de/author/felix-zumstein/208533140/'}],\n",
       "   'num_authors': 1,\n",
       "   'series': ' Series',\n",
       "   'series_number': '',\n",
       "   'has_series': False,\n",
       "   'series_url': '',\n",
       "   'publisher': \"O'Reilly Media\",\n",
       "   'publication_year': '2021',\n",
       "   'price': '21,43 €',\n",
       "   'desktop_short_description': \"While Excel remains ubiquitous in the business world, recent Microsoft feedback forums are full of requests to include Python as an Excel scripting language. In fact, it's the top feature requested. What makes this combination so compelling? In this hands-on guide, Felix Zumstein--creator of xlwings, a popular open source package for automating...\",\n",
       "   'mobile_short_description': 'While Excel remains ubiquitous in the business world, recent Microsoft feedback forums are full of...',\n",
       "   'is_preorder': False,\n",
       "   'is_available': True,\n",
       "   'preorder_url': '/account/preorder/?bookId=210239573',\n",
       "   'add_to_cart_url': '/cart/add/210239573/',\n",
       "   'currency_symbol': '€',\n",
       "   'price_number': 21.4291433439,\n",
       "   'on_sale_date': '2021-03-04T00:00:00'},\n",
       "  {'id': 210180129,\n",
       "   'book_url': '/en-de/book/210180129/head-first-c/andrew-stellman/',\n",
       "   'image_url': 'https://image.ebooks.com/previews/210/210180/210180129/210180129-sml-1.jpg',\n",
       "   'image_alt_tag': 'Head First C#',\n",
       "   'title': 'Head First C#',\n",
       "   'edition': ' (4th ed.)',\n",
       "   'subtitle': '',\n",
       "   'authors': [{'author_name': 'Andrew Stellman',\n",
       "     'author_url': '/en-de/author/andrew-stellman/182816/'},\n",
       "    {'author_name': 'Jennifer Greene',\n",
       "     'author_url': '/en-de/author/jennifer-greene/67758/'}],\n",
       "   'num_authors': 2,\n",
       "   'series': ' Series',\n",
       "   'series_number': '',\n",
       "   'has_series': False,\n",
       "   'series_url': '',\n",
       "   'publisher': \"O'Reilly Media\",\n",
       "   'publication_year': '2020',\n",
       "   'price': '19,70 €',\n",
       "   'desktop_short_description': 'What will you learn from this book?   Dive into C# and create apps, user interfaces, games, and more using this fun and highly visual introduction to C#, .NET Core, and Visual Studio. With this completely updated guide, which covers C# 8.0 and Visual Studio 2019, beginning programmers like you will build a fully functional game in the opening...',\n",
       "   'mobile_short_description': 'What will you learn from this book?   Dive into C# and create apps, user interfaces, games, and more...',\n",
       "   'is_preorder': False,\n",
       "   'is_available': True,\n",
       "   'preorder_url': '/account/preorder/?bookId=210180129',\n",
       "   'add_to_cart_url': '/cart/add/210180129/',\n",
       "   'currency_symbol': '€',\n",
       "   'price_number': 19.7008472439,\n",
       "   'on_sale_date': '2020-12-04T00:00:00'},\n",
       "  {'id': 209894569,\n",
       "   'book_url': '/en-de/book/209894569/monolith-to-microservices/sam-newman/',\n",
       "   'image_url': 'https://image.ebooks.com/previews/209/209894/209894569/209894569-sml-1.jpg',\n",
       "   'image_alt_tag': 'Monolith to Microservices: Evolutionary Patterns to Transform Your Monolith',\n",
       "   'title': 'Monolith to Microservices',\n",
       "   'edition': '',\n",
       "   'subtitle': 'Evolutionary Patterns to Transform Your Monolith',\n",
       "   'authors': [{'author_name': 'Sam Newman',\n",
       "     'author_url': '/en-de/author/sam-newman/748359/'}],\n",
       "   'num_authors': 1,\n",
       "   'series': ' Series',\n",
       "   'series_number': '',\n",
       "   'has_series': False,\n",
       "   'series_url': '',\n",
       "   'publisher': \"O'Reilly Media\",\n",
       "   'publication_year': '2019',\n",
       "   'price': '17,97 €',\n",
       "   'desktop_short_description': 'How do you detangle a monolithic system and migrate it to a microservice architecture? How do you do it while maintaining business-as-usual? As a companion to Sam Newman’s extremely popular  Building Microservices , this new book details a proven method for transitioning an existing monolithic system to a microservice architecture.  With many...',\n",
       "   'mobile_short_description': 'How do you detangle a monolithic system and migrate it to a microservice architecture? How do you do...',\n",
       "   'is_preorder': False,\n",
       "   'is_available': True,\n",
       "   'preorder_url': '/account/preorder/?bookId=209894569',\n",
       "   'add_to_cart_url': '/cart/add/209894569/',\n",
       "   'currency_symbol': '€',\n",
       "   'price_number': 17.9725511439,\n",
       "   'on_sale_date': '2019-11-21T00:00:00'}],\n",
       " 'pages': [{'number': '1',\n",
       "   'is_selected': True,\n",
       "   'show_mobile': True,\n",
       "   'show_tablet': True,\n",
       "   'search_url': '/en-de/subjects/computers/?ResultOrder=Popularity'},\n",
       "  {'number': '2',\n",
       "   'is_selected': False,\n",
       "   'show_mobile': True,\n",
       "   'show_tablet': True,\n",
       "   'search_url': '/en-de/subjects/computers/?ResultOrder=Popularity&pageNumber=2'},\n",
       "  {'number': '3',\n",
       "   'is_selected': False,\n",
       "   'show_mobile': True,\n",
       "   'show_tablet': True,\n",
       "   'search_url': '/en-de/subjects/computers/?ResultOrder=Popularity&pageNumber=3'},\n",
       "  {'number': '4',\n",
       "   'is_selected': False,\n",
       "   'show_mobile': True,\n",
       "   'show_tablet': True,\n",
       "   'search_url': '/en-de/subjects/computers/?ResultOrder=Popularity&pageNumber=4'},\n",
       "  {'number': '5',\n",
       "   'is_selected': False,\n",
       "   'show_mobile': True,\n",
       "   'show_tablet': True,\n",
       "   'search_url': '/en-de/subjects/computers/?ResultOrder=Popularity&pageNumber=5'},\n",
       "  {'number': '6',\n",
       "   'is_selected': False,\n",
       "   'show_mobile': False,\n",
       "   'show_tablet': True,\n",
       "   'search_url': '/en-de/subjects/computers/?ResultOrder=Popularity&pageNumber=6'},\n",
       "  {'number': '7',\n",
       "   'is_selected': False,\n",
       "   'show_mobile': False,\n",
       "   'show_tablet': True,\n",
       "   'search_url': '/en-de/subjects/computers/?ResultOrder=Popularity&pageNumber=7'},\n",
       "  {'number': '8',\n",
       "   'is_selected': False,\n",
       "   'show_mobile': False,\n",
       "   'show_tablet': True,\n",
       "   'search_url': '/en-de/subjects/computers/?ResultOrder=Popularity&pageNumber=8'},\n",
       "  {'number': '9',\n",
       "   'is_selected': False,\n",
       "   'show_mobile': False,\n",
       "   'show_tablet': False,\n",
       "   'search_url': '/en-de/subjects/computers/?ResultOrder=Popularity&pageNumber=9'}],\n",
       " 'previous_page': None,\n",
       " 'next_page': '/en-de/subjects/computers/?ResultOrder=Popularity&pageNumber=2'}"
      ]
     },
     "execution_count": 4,
     "metadata": {},
     "output_type": "execute_result"
    }
   ],
   "source": [
    "response.json()"
   ]
  },
  {
   "cell_type": "code",
   "execution_count": 5,
   "metadata": {},
   "outputs": [
    {
     "data": {
      "text/plain": [
       "dict"
      ]
     },
     "execution_count": 5,
     "metadata": {},
     "output_type": "execute_result"
    }
   ],
   "source": [
    "type(response.json())"
   ]
  },
  {
   "cell_type": "markdown",
   "metadata": {},
   "source": [
    "#### Step 5 - Output Keys"
   ]
  },
  {
   "cell_type": "code",
   "execution_count": 6,
   "metadata": {},
   "outputs": [
    {
     "data": {
      "text/plain": [
       "dict_keys(['search_term', 'start_record', 'total_results', 'books', 'pages', 'previous_page', 'next_page'])"
      ]
     },
     "execution_count": 6,
     "metadata": {},
     "output_type": "execute_result"
    }
   ],
   "source": [
    "response.json().keys()"
   ]
  },
  {
   "cell_type": "markdown",
   "metadata": {},
   "source": [
    "#### Step 6 - Find your Data"
   ]
  },
  {
   "cell_type": "code",
   "execution_count": null,
   "metadata": {},
   "outputs": [],
   "source": [
    "# title\n",
    "# subtitle\n",
    "# author\n",
    "# publisher\n",
    "# publication date\n",
    "# price"
   ]
  },
  {
   "cell_type": "code",
   "execution_count": 7,
   "metadata": {},
   "outputs": [
    {
     "data": {
      "text/plain": [
       "[{'id': 95729334,\n",
       "  'book_url': '/en-de/book/95729334/designing-data-intensive-applications/martin-kleppmann/',\n",
       "  'image_url': 'https://image.ebooks.com/previews/095/095729/095729334/095729334-sml-1.jpg',\n",
       "  'image_alt_tag': 'Designing Data-Intensive Applications: The Big Ideas Behind Reliable, Scalable, and Maintainable Systems',\n",
       "  'title': 'Designing Data-Intensive Applications',\n",
       "  'edition': '',\n",
       "  'subtitle': 'The Big Ideas Behind Reliable, Scalable, and Maintainable Systems',\n",
       "  'authors': [{'author_name': 'Martin Kleppmann',\n",
       "    'author_url': '/en-de/author/martin-kleppmann/1321307/'}],\n",
       "  'num_authors': 1,\n",
       "  'series': ' Series',\n",
       "  'series_number': '',\n",
       "  'has_series': False,\n",
       "  'series_url': '',\n",
       "  'publisher': \"O'Reilly Media\",\n",
       "  'publication_year': '2017',\n",
       "  'price': '14,34 €',\n",
       "  'desktop_short_description': 'Data is at the center of many challenges in system design today. Difficult issues need to be figured out, such as scalability, consistency, reliability, efficiency, and maintainability. In addition, we have an overwhelming variety of tools, including relational databases, NoSQL datastores, stream or batch processors, and message brokers. What are...',\n",
       "  'mobile_short_description': 'Data is at the center of many challenges in system design today. Difficult issues need to be figured...',\n",
       "  'is_preorder': False,\n",
       "  'is_available': True,\n",
       "  'preorder_url': '/account/preorder/?bookId=95729334',\n",
       "  'add_to_cart_url': '/cart/add/95729334/',\n",
       "  'currency_symbol': '€',\n",
       "  'price_number': 14.3431293339,\n",
       "  'on_sale_date': '2017-03-16T00:00:00'},\n",
       " {'id': 95871448,\n",
       "  'book_url': '/en-de/book/95871448/python-for-data-analysis/wes-mckinney/',\n",
       "  'image_url': 'https://image.ebooks.com/previews/095/095871/095871448/095871448-sml-1.jpg',\n",
       "  'image_alt_tag': 'Python for Data Analysis: Data Wrangling with Pandas, NumPy, and IPython',\n",
       "  'title': 'Python for Data Analysis',\n",
       "  'edition': ' (2nd ed.)',\n",
       "  'subtitle': 'Data Wrangling with Pandas, NumPy, and IPython',\n",
       "  'authors': [{'author_name': 'Wes McKinney',\n",
       "    'author_url': '/en-de/author/wes-mckinney/513179/'}],\n",
       "  'num_authors': 1,\n",
       "  'series': ' Series',\n",
       "  'series_number': '',\n",
       "  'has_series': False,\n",
       "  'series_url': '',\n",
       "  'publisher': \"O'Reilly Media\",\n",
       "  'publication_year': '2017',\n",
       "  'price': '17,97 €',\n",
       "  'desktop_short_description': 'Get complete instructions for manipulating, processing, cleaning, and crunching datasets in Python. Updated for Python 3.6, the second edition of this hands-on guide is packed with practical case studies that show you how to solve a broad set of data analysis problems effectively. You’ll learn the latest versions of pandas, NumPy, IPython, and...',\n",
       "  'mobile_short_description': 'Get complete instructions for manipulating, processing, cleaning, and crunching datasets in Python....',\n",
       "  'is_preorder': False,\n",
       "  'is_available': True,\n",
       "  'preorder_url': '/account/preorder/?bookId=95871448',\n",
       "  'add_to_cart_url': '/cart/add/95871448/',\n",
       "  'currency_symbol': '€',\n",
       "  'price_number': 17.9725511439,\n",
       "  'on_sale_date': '2017-09-25T00:00:00'},\n",
       " {'id': 210313783,\n",
       "  'book_url': '/en-de/book/210313783/programming-rust/jim-blandy/',\n",
       "  'image_url': 'https://image.ebooks.com/previews/210/210313/210313783/210313783-sml-1.jpg',\n",
       "  'image_alt_tag': 'Programming Rust',\n",
       "  'title': 'Programming Rust',\n",
       "  'edition': ' (2nd ed.)',\n",
       "  'subtitle': '',\n",
       "  'authors': [{'author_name': 'Jim Blandy',\n",
       "    'author_url': '/en-de/author/jim-blandy/94214791/'},\n",
       "   {'author_name': 'Jason Orendorff',\n",
       "    'author_url': '/en-de/author/jason-orendorff/94214792/'}],\n",
       "  'num_authors': 3,\n",
       "  'series': ' Series',\n",
       "  'series_number': '',\n",
       "  'has_series': False,\n",
       "  'series_url': '',\n",
       "  'publisher': \"O'Reilly Media\",\n",
       "  'publication_year': '2021',\n",
       "  'price': '21,43 €',\n",
       "  'desktop_short_description': \"Systems programming provides the foundation for the world's computation. Writing performance-sensitive code requires a programming language that puts programmers in control of how memory, processor time, and other system resources are used. The Rust systems programming language combines that control with a modern type system that catches broad...\",\n",
       "  'mobile_short_description': \"Systems programming provides the foundation for the world's computation. Writing...\",\n",
       "  'is_preorder': False,\n",
       "  'is_available': True,\n",
       "  'preorder_url': '/account/preorder/?bookId=210313783',\n",
       "  'add_to_cart_url': '/cart/add/210313783/',\n",
       "  'currency_symbol': '€',\n",
       "  'price_number': 21.4291433439,\n",
       "  'on_sale_date': '2021-06-11T00:00:00'},\n",
       " {'id': 209820951,\n",
       "  'book_url': '/en-de/book/209820951/effective-typescript/dan-vanderkam/',\n",
       "  'image_url': 'https://image.ebooks.com/previews/209/209820/209820951/209820951-sml-1.jpg',\n",
       "  'image_alt_tag': 'Effective TypeScript: 62 Specific Ways to Improve Your TypeScript',\n",
       "  'title': 'Effective TypeScript',\n",
       "  'edition': '',\n",
       "  'subtitle': '62 Specific Ways to Improve Your TypeScript',\n",
       "  'authors': [{'author_name': 'Dan Vanderkam',\n",
       "    'author_url': '/en-de/author/dan-vanderkam/208299957/'}],\n",
       "  'num_authors': 1,\n",
       "  'series': ' Series',\n",
       "  'series_number': '',\n",
       "  'has_series': False,\n",
       "  'series_url': '',\n",
       "  'publisher': \"O'Reilly Media\",\n",
       "  'publication_year': '2019',\n",
       "  'price': '14,34 €',\n",
       "  'desktop_short_description': 'TypeScript is a typed superset of JavaScript with the potential to solve many of the headaches for which JavaScript is famous. But TypeScript has a learning curve of its own, and understanding how to use it effectively can take time. This book guides you through 62 specific ways to improve your use of TypeScript.  Author Dan Vanderkam, a principal...',\n",
       "  'mobile_short_description': 'TypeScript is a typed superset of JavaScript with the potential to solve many of the headaches for...',\n",
       "  'is_preorder': False,\n",
       "  'is_available': True,\n",
       "  'preorder_url': '/account/preorder/?bookId=209820951',\n",
       "  'add_to_cart_url': '/cart/add/209820951/',\n",
       "  'currency_symbol': '€',\n",
       "  'price_number': 14.3431293339,\n",
       "  'on_sale_date': '2019-10-17T00:00:00'},\n",
       " {'id': 209779138,\n",
       "  'book_url': '/en-de/book/209779138/hands-on-machine-learning-with-scikit-learn-keras-and-tensorflow/aur-lien-g-ron/',\n",
       "  'image_url': 'https://image.ebooks.com/previews/209/209779/209779138/209779138-sml-1.jpg',\n",
       "  'image_alt_tag': 'Hands-On Machine Learning with Scikit-Learn, Keras, and TensorFlow: Concepts, Tools, and Techniques to Build Intelligent Systems',\n",
       "  'title': 'Hands-On Machine Learning with Scikit-Learn, Keras, and TensorFlow',\n",
       "  'edition': ' (2nd ed.)',\n",
       "  'subtitle': 'Concepts, Tools, and Techniques to Build Intelligent Systems',\n",
       "  'authors': [{'author_name': 'Aurélien Géron',\n",
       "    'author_url': '/en-de/author/aurélien-géron/1320636/'}],\n",
       "  'num_authors': 1,\n",
       "  'series': ' Series',\n",
       "  'series_number': '',\n",
       "  'has_series': False,\n",
       "  'series_url': '',\n",
       "  'publisher': \"O'Reilly Media\",\n",
       "  'publication_year': '2019',\n",
       "  'price': '25,06 €',\n",
       "  'desktop_short_description': 'Through a series of recent breakthroughs, deep learning has boosted the entire field of machine learning. Now, even programmers who know close to nothing about this technology can use simple, efficient tools to implement programs capable of learning from data. This practical book shows you how.  By using concrete examples, minimal theory, and two...',\n",
       "  'mobile_short_description': 'Through a series of recent breakthroughs, deep learning has boosted the entire field of machine...',\n",
       "  'is_preorder': False,\n",
       "  'is_available': True,\n",
       "  'preorder_url': '/account/preorder/?bookId=209779138',\n",
       "  'add_to_cart_url': '/cart/add/209779138/',\n",
       "  'currency_symbol': '€',\n",
       "  'price_number': 25.0585651539,\n",
       "  'on_sale_date': '2019-09-05T00:00:00'},\n",
       " {'id': 209663126,\n",
       "  'book_url': '/en-de/book/209663126/data-science-from-scratch/joel-grus/',\n",
       "  'image_url': 'https://image.ebooks.com/previews/209/209663/209663126/209663126-sml-1.jpg',\n",
       "  'image_alt_tag': 'Data Science from Scratch: First Principles with Python',\n",
       "  'title': 'Data Science from Scratch',\n",
       "  'edition': ' (2nd ed.)',\n",
       "  'subtitle': 'First Principles with Python',\n",
       "  'authors': [{'author_name': 'Joel Grus',\n",
       "    'author_url': '/en-de/author/joel-grus/935372/'}],\n",
       "  'num_authors': 1,\n",
       "  'series': ' Series',\n",
       "  'series_number': '',\n",
       "  'has_series': False,\n",
       "  'series_url': '',\n",
       "  'publisher': \"O'Reilly Media\",\n",
       "  'publication_year': '2019',\n",
       "  'price': '21,43 €',\n",
       "  'desktop_short_description': 'Data science libraries, frameworks, modules, and toolkits are great for doing data science, but they’re also a good way to dive into the discipline without actually understanding data science. With this updated second edition, you’ll learn how many of the most fundamental data science tools and algorithms work by implementing them from scratch.  If...',\n",
       "  'mobile_short_description': 'Data science libraries, frameworks, modules, and toolkits are great for doing data science, but...',\n",
       "  'is_preorder': False,\n",
       "  'is_available': True,\n",
       "  'preorder_url': '/account/preorder/?bookId=209663126',\n",
       "  'add_to_cart_url': '/cart/add/209663126/',\n",
       "  'currency_symbol': '€',\n",
       "  'price_number': 21.4291433439,\n",
       "  'on_sale_date': '2019-04-12T00:00:00'},\n",
       " {'id': 210338899,\n",
       "  'book_url': '/en-de/book/210338899/building-microservices/sam-newman/',\n",
       "  'image_url': 'https://image.ebooks.com/previews/210/210338/210338899/210338899-sml-1.jpg',\n",
       "  'image_alt_tag': 'Building Microservices',\n",
       "  'title': 'Building Microservices',\n",
       "  'edition': ' (2nd ed.)',\n",
       "  'subtitle': '',\n",
       "  'authors': [{'author_name': 'Sam Newman',\n",
       "    'author_url': '/en-de/author/sam-newman/748359/'}],\n",
       "  'num_authors': 1,\n",
       "  'series': ' Series',\n",
       "  'series_number': '',\n",
       "  'has_series': False,\n",
       "  'series_url': '',\n",
       "  'publisher': \"O'Reilly Media\",\n",
       "  'publication_year': '2021',\n",
       "  'price': '21,43 €',\n",
       "  'desktop_short_description': 'As organizations shift from monolithic applications to smaller, self-contained microservices, distributed systems have become more fine-grained. But developing these new systems brings its own host of problems. This expanded second edition takes a holistic view of topics that you need to consider when building, managing, and scaling microservices...',\n",
       "  'mobile_short_description': 'As organizations shift from monolithic applications to smaller, self-contained microservices,...',\n",
       "  'is_preorder': False,\n",
       "  'is_available': True,\n",
       "  'preorder_url': '/account/preorder/?bookId=210338899',\n",
       "  'add_to_cart_url': '/cart/add/210338899/',\n",
       "  'currency_symbol': '€',\n",
       "  'price_number': 21.4291433439,\n",
       "  'on_sale_date': '2021-07-24T00:00:00'},\n",
       " {'id': 210239573,\n",
       "  'book_url': '/en-de/book/210239573/python-for-excel/felix-zumstein/',\n",
       "  'image_url': 'https://image.ebooks.com/previews/210/210239/210239573/210239573-sml-1.jpg',\n",
       "  'image_alt_tag': 'Python for Excel',\n",
       "  'title': 'Python for Excel',\n",
       "  'edition': '',\n",
       "  'subtitle': '',\n",
       "  'authors': [{'author_name': 'Felix Zumstein',\n",
       "    'author_url': '/en-de/author/felix-zumstein/208533140/'}],\n",
       "  'num_authors': 1,\n",
       "  'series': ' Series',\n",
       "  'series_number': '',\n",
       "  'has_series': False,\n",
       "  'series_url': '',\n",
       "  'publisher': \"O'Reilly Media\",\n",
       "  'publication_year': '2021',\n",
       "  'price': '21,43 €',\n",
       "  'desktop_short_description': \"While Excel remains ubiquitous in the business world, recent Microsoft feedback forums are full of requests to include Python as an Excel scripting language. In fact, it's the top feature requested. What makes this combination so compelling? In this hands-on guide, Felix Zumstein--creator of xlwings, a popular open source package for automating...\",\n",
       "  'mobile_short_description': 'While Excel remains ubiquitous in the business world, recent Microsoft feedback forums are full of...',\n",
       "  'is_preorder': False,\n",
       "  'is_available': True,\n",
       "  'preorder_url': '/account/preorder/?bookId=210239573',\n",
       "  'add_to_cart_url': '/cart/add/210239573/',\n",
       "  'currency_symbol': '€',\n",
       "  'price_number': 21.4291433439,\n",
       "  'on_sale_date': '2021-03-04T00:00:00'},\n",
       " {'id': 210180129,\n",
       "  'book_url': '/en-de/book/210180129/head-first-c/andrew-stellman/',\n",
       "  'image_url': 'https://image.ebooks.com/previews/210/210180/210180129/210180129-sml-1.jpg',\n",
       "  'image_alt_tag': 'Head First C#',\n",
       "  'title': 'Head First C#',\n",
       "  'edition': ' (4th ed.)',\n",
       "  'subtitle': '',\n",
       "  'authors': [{'author_name': 'Andrew Stellman',\n",
       "    'author_url': '/en-de/author/andrew-stellman/182816/'},\n",
       "   {'author_name': 'Jennifer Greene',\n",
       "    'author_url': '/en-de/author/jennifer-greene/67758/'}],\n",
       "  'num_authors': 2,\n",
       "  'series': ' Series',\n",
       "  'series_number': '',\n",
       "  'has_series': False,\n",
       "  'series_url': '',\n",
       "  'publisher': \"O'Reilly Media\",\n",
       "  'publication_year': '2020',\n",
       "  'price': '19,70 €',\n",
       "  'desktop_short_description': 'What will you learn from this book?   Dive into C# and create apps, user interfaces, games, and more using this fun and highly visual introduction to C#, .NET Core, and Visual Studio. With this completely updated guide, which covers C# 8.0 and Visual Studio 2019, beginning programmers like you will build a fully functional game in the opening...',\n",
       "  'mobile_short_description': 'What will you learn from this book?   Dive into C# and create apps, user interfaces, games, and more...',\n",
       "  'is_preorder': False,\n",
       "  'is_available': True,\n",
       "  'preorder_url': '/account/preorder/?bookId=210180129',\n",
       "  'add_to_cart_url': '/cart/add/210180129/',\n",
       "  'currency_symbol': '€',\n",
       "  'price_number': 19.7008472439,\n",
       "  'on_sale_date': '2020-12-04T00:00:00'},\n",
       " {'id': 209894569,\n",
       "  'book_url': '/en-de/book/209894569/monolith-to-microservices/sam-newman/',\n",
       "  'image_url': 'https://image.ebooks.com/previews/209/209894/209894569/209894569-sml-1.jpg',\n",
       "  'image_alt_tag': 'Monolith to Microservices: Evolutionary Patterns to Transform Your Monolith',\n",
       "  'title': 'Monolith to Microservices',\n",
       "  'edition': '',\n",
       "  'subtitle': 'Evolutionary Patterns to Transform Your Monolith',\n",
       "  'authors': [{'author_name': 'Sam Newman',\n",
       "    'author_url': '/en-de/author/sam-newman/748359/'}],\n",
       "  'num_authors': 1,\n",
       "  'series': ' Series',\n",
       "  'series_number': '',\n",
       "  'has_series': False,\n",
       "  'series_url': '',\n",
       "  'publisher': \"O'Reilly Media\",\n",
       "  'publication_year': '2019',\n",
       "  'price': '17,97 €',\n",
       "  'desktop_short_description': 'How do you detangle a monolithic system and migrate it to a microservice architecture? How do you do it while maintaining business-as-usual? As a companion to Sam Newman’s extremely popular  Building Microservices , this new book details a proven method for transitioning an existing monolithic system to a microservice architecture.  With many...',\n",
       "  'mobile_short_description': 'How do you detangle a monolithic system and migrate it to a microservice architecture? How do you do...',\n",
       "  'is_preorder': False,\n",
       "  'is_available': True,\n",
       "  'preorder_url': '/account/preorder/?bookId=209894569',\n",
       "  'add_to_cart_url': '/cart/add/209894569/',\n",
       "  'currency_symbol': '€',\n",
       "  'price_number': 17.9725511439,\n",
       "  'on_sale_date': '2019-11-21T00:00:00'}]"
      ]
     },
     "execution_count": 7,
     "metadata": {},
     "output_type": "execute_result"
    }
   ],
   "source": [
    "response.json()['books']"
   ]
  },
  {
   "cell_type": "code",
   "execution_count": 8,
   "metadata": {},
   "outputs": [
    {
     "data": {
      "text/plain": [
       "10"
      ]
     },
     "execution_count": 8,
     "metadata": {},
     "output_type": "execute_result"
    }
   ],
   "source": [
    "len(response.json()['books'])"
   ]
  },
  {
   "cell_type": "code",
   "execution_count": 9,
   "metadata": {},
   "outputs": [],
   "source": [
    "results_json = response.json()['books']"
   ]
  },
  {
   "cell_type": "code",
   "execution_count": 10,
   "metadata": {},
   "outputs": [
    {
     "data": {
      "text/plain": [
       "10"
      ]
     },
     "execution_count": 10,
     "metadata": {},
     "output_type": "execute_result"
    }
   ],
   "source": [
    "len(results_json)"
   ]
  },
  {
   "cell_type": "code",
   "execution_count": 11,
   "metadata": {},
   "outputs": [
    {
     "data": {
      "text/plain": [
       "{'id': 95729334,\n",
       " 'book_url': '/en-de/book/95729334/designing-data-intensive-applications/martin-kleppmann/',\n",
       " 'image_url': 'https://image.ebooks.com/previews/095/095729/095729334/095729334-sml-1.jpg',\n",
       " 'image_alt_tag': 'Designing Data-Intensive Applications: The Big Ideas Behind Reliable, Scalable, and Maintainable Systems',\n",
       " 'title': 'Designing Data-Intensive Applications',\n",
       " 'edition': '',\n",
       " 'subtitle': 'The Big Ideas Behind Reliable, Scalable, and Maintainable Systems',\n",
       " 'authors': [{'author_name': 'Martin Kleppmann',\n",
       "   'author_url': '/en-de/author/martin-kleppmann/1321307/'}],\n",
       " 'num_authors': 1,\n",
       " 'series': ' Series',\n",
       " 'series_number': '',\n",
       " 'has_series': False,\n",
       " 'series_url': '',\n",
       " 'publisher': \"O'Reilly Media\",\n",
       " 'publication_year': '2017',\n",
       " 'price': '14,34 €',\n",
       " 'desktop_short_description': 'Data is at the center of many challenges in system design today. Difficult issues need to be figured out, such as scalability, consistency, reliability, efficiency, and maintainability. In addition, we have an overwhelming variety of tools, including relational databases, NoSQL datastores, stream or batch processors, and message brokers. What are...',\n",
       " 'mobile_short_description': 'Data is at the center of many challenges in system design today. Difficult issues need to be figured...',\n",
       " 'is_preorder': False,\n",
       " 'is_available': True,\n",
       " 'preorder_url': '/account/preorder/?bookId=95729334',\n",
       " 'add_to_cart_url': '/cart/add/95729334/',\n",
       " 'currency_symbol': '€',\n",
       " 'price_number': 14.3431293339,\n",
       " 'on_sale_date': '2017-03-16T00:00:00'}"
      ]
     },
     "execution_count": 11,
     "metadata": {},
     "output_type": "execute_result"
    }
   ],
   "source": [
    "results_json[0]"
   ]
  },
  {
   "cell_type": "code",
   "execution_count": 12,
   "metadata": {},
   "outputs": [
    {
     "data": {
      "text/plain": [
       "'Designing Data-Intensive Applications'"
      ]
     },
     "execution_count": 12,
     "metadata": {},
     "output_type": "execute_result"
    }
   ],
   "source": [
    "# title\n",
    "results_json[0]['title']"
   ]
  },
  {
   "cell_type": "code",
   "execution_count": 13,
   "metadata": {},
   "outputs": [
    {
     "data": {
      "text/plain": [
       "'The Big Ideas Behind Reliable, Scalable, and Maintainable Systems'"
      ]
     },
     "execution_count": 13,
     "metadata": {},
     "output_type": "execute_result"
    }
   ],
   "source": [
    "# subtitle\n",
    "results_json[0]['subtitle']"
   ]
  },
  {
   "cell_type": "code",
   "execution_count": 14,
   "metadata": {},
   "outputs": [
    {
     "data": {
      "text/plain": [
       "'Martin Kleppmann'"
      ]
     },
     "execution_count": 14,
     "metadata": {},
     "output_type": "execute_result"
    }
   ],
   "source": [
    "# author\n",
    "results_json[0]['authors'][0]['author_name']"
   ]
  },
  {
   "cell_type": "code",
   "execution_count": 15,
   "metadata": {},
   "outputs": [
    {
     "data": {
      "text/plain": [
       "\"O'Reilly Media\""
      ]
     },
     "execution_count": 15,
     "metadata": {},
     "output_type": "execute_result"
    }
   ],
   "source": [
    "# publisher\n",
    "results_json[0]['publisher']"
   ]
  },
  {
   "cell_type": "code",
   "execution_count": 16,
   "metadata": {},
   "outputs": [
    {
     "data": {
      "text/plain": [
       "'2017'"
      ]
     },
     "execution_count": 16,
     "metadata": {},
     "output_type": "execute_result"
    }
   ],
   "source": [
    "# publication year\n",
    "results_json[0]['publication_year']"
   ]
  },
  {
   "cell_type": "code",
   "execution_count": 17,
   "metadata": {},
   "outputs": [
    {
     "data": {
      "text/plain": [
       "'14,34 €'"
      ]
     },
     "execution_count": 17,
     "metadata": {},
     "output_type": "execute_result"
    }
   ],
   "source": [
    "# price\n",
    "results_json[0]['price']"
   ]
  },
  {
   "cell_type": "markdown",
   "metadata": {},
   "source": [
    "#### Step 7 - Put everything together - Loop through results and append data inside a list"
   ]
  },
  {
   "cell_type": "code",
   "execution_count": 18,
   "metadata": {},
   "outputs": [],
   "source": [
    "title = []\n",
    "subtitle = []\n",
    "author = []\n",
    "publisher = []\n",
    "publication_year = []\n",
    "price = []\n",
    "\n",
    "for result in results_json:\n",
    "    \n",
    "    # title\n",
    "    title.append(result['title'])\n",
    "    \n",
    "    # subtitle\n",
    "    subtitle.append(result['subtitle'])\n",
    "    \n",
    "    # author\n",
    "    author.append(result['authors'][0]['author_name'])\n",
    "    \n",
    "    # publisher\n",
    "    publisher.append(result['publisher'])\n",
    "    \n",
    "    # publication_year\n",
    "    publication_year.append(result['publication_year'])\n",
    "    \n",
    "    # price\n",
    "    price.append(result['price'])"
   ]
  },
  {
   "cell_type": "markdown",
   "metadata": {},
   "source": [
    "#### Step 8 - Pandas Dataframe"
   ]
  },
  {
   "cell_type": "code",
   "execution_count": 19,
   "metadata": {},
   "outputs": [],
   "source": [
    "books_df = pd.DataFrame({'Title': title, 'Subtitle': subtitle, 'Author': author, 'Publisher': publisher,\n",
    "                         'Publication Year': publication_year, 'Price': price})"
   ]
  },
  {
   "cell_type": "code",
   "execution_count": 20,
   "metadata": {},
   "outputs": [
    {
     "data": {
      "text/html": [
       "<div>\n",
       "<style scoped>\n",
       "    .dataframe tbody tr th:only-of-type {\n",
       "        vertical-align: middle;\n",
       "    }\n",
       "\n",
       "    .dataframe tbody tr th {\n",
       "        vertical-align: top;\n",
       "    }\n",
       "\n",
       "    .dataframe thead th {\n",
       "        text-align: right;\n",
       "    }\n",
       "</style>\n",
       "<table border=\"1\" class=\"dataframe\">\n",
       "  <thead>\n",
       "    <tr style=\"text-align: right;\">\n",
       "      <th></th>\n",
       "      <th>Title</th>\n",
       "      <th>Subtitle</th>\n",
       "      <th>Author</th>\n",
       "      <th>Publisher</th>\n",
       "      <th>Publication Year</th>\n",
       "      <th>Price</th>\n",
       "    </tr>\n",
       "  </thead>\n",
       "  <tbody>\n",
       "    <tr>\n",
       "      <th>0</th>\n",
       "      <td>Designing Data-Intensive Applications</td>\n",
       "      <td>The Big Ideas Behind Reliable, Scalable, and M...</td>\n",
       "      <td>Martin Kleppmann</td>\n",
       "      <td>O'Reilly Media</td>\n",
       "      <td>2017</td>\n",
       "      <td>14,34 €</td>\n",
       "    </tr>\n",
       "    <tr>\n",
       "      <th>1</th>\n",
       "      <td>Python for Data Analysis</td>\n",
       "      <td>Data Wrangling with Pandas, NumPy, and IPython</td>\n",
       "      <td>Wes McKinney</td>\n",
       "      <td>O'Reilly Media</td>\n",
       "      <td>2017</td>\n",
       "      <td>17,97 €</td>\n",
       "    </tr>\n",
       "    <tr>\n",
       "      <th>2</th>\n",
       "      <td>Programming Rust</td>\n",
       "      <td></td>\n",
       "      <td>Jim Blandy</td>\n",
       "      <td>O'Reilly Media</td>\n",
       "      <td>2021</td>\n",
       "      <td>21,43 €</td>\n",
       "    </tr>\n",
       "    <tr>\n",
       "      <th>3</th>\n",
       "      <td>Effective TypeScript</td>\n",
       "      <td>62 Specific Ways to Improve Your TypeScript</td>\n",
       "      <td>Dan Vanderkam</td>\n",
       "      <td>O'Reilly Media</td>\n",
       "      <td>2019</td>\n",
       "      <td>14,34 €</td>\n",
       "    </tr>\n",
       "    <tr>\n",
       "      <th>4</th>\n",
       "      <td>Hands-On Machine Learning with Scikit-Learn, K...</td>\n",
       "      <td>Concepts, Tools, and Techniques to Build Intel...</td>\n",
       "      <td>Aurélien Géron</td>\n",
       "      <td>O'Reilly Media</td>\n",
       "      <td>2019</td>\n",
       "      <td>25,06 €</td>\n",
       "    </tr>\n",
       "    <tr>\n",
       "      <th>5</th>\n",
       "      <td>Data Science from Scratch</td>\n",
       "      <td>First Principles with Python</td>\n",
       "      <td>Joel Grus</td>\n",
       "      <td>O'Reilly Media</td>\n",
       "      <td>2019</td>\n",
       "      <td>21,43 €</td>\n",
       "    </tr>\n",
       "    <tr>\n",
       "      <th>6</th>\n",
       "      <td>Building Microservices</td>\n",
       "      <td></td>\n",
       "      <td>Sam Newman</td>\n",
       "      <td>O'Reilly Media</td>\n",
       "      <td>2021</td>\n",
       "      <td>21,43 €</td>\n",
       "    </tr>\n",
       "    <tr>\n",
       "      <th>7</th>\n",
       "      <td>Python for Excel</td>\n",
       "      <td></td>\n",
       "      <td>Felix Zumstein</td>\n",
       "      <td>O'Reilly Media</td>\n",
       "      <td>2021</td>\n",
       "      <td>21,43 €</td>\n",
       "    </tr>\n",
       "    <tr>\n",
       "      <th>8</th>\n",
       "      <td>Head First C#</td>\n",
       "      <td></td>\n",
       "      <td>Andrew Stellman</td>\n",
       "      <td>O'Reilly Media</td>\n",
       "      <td>2020</td>\n",
       "      <td>19,70 €</td>\n",
       "    </tr>\n",
       "    <tr>\n",
       "      <th>9</th>\n",
       "      <td>Monolith to Microservices</td>\n",
       "      <td>Evolutionary Patterns to Transform Your Monolith</td>\n",
       "      <td>Sam Newman</td>\n",
       "      <td>O'Reilly Media</td>\n",
       "      <td>2019</td>\n",
       "      <td>17,97 €</td>\n",
       "    </tr>\n",
       "  </tbody>\n",
       "</table>\n",
       "</div>"
      ],
      "text/plain": [
       "                                               Title  \\\n",
       "0              Designing Data-Intensive Applications   \n",
       "1                           Python for Data Analysis   \n",
       "2                                   Programming Rust   \n",
       "3                               Effective TypeScript   \n",
       "4  Hands-On Machine Learning with Scikit-Learn, K...   \n",
       "5                          Data Science from Scratch   \n",
       "6                             Building Microservices   \n",
       "7                                   Python for Excel   \n",
       "8                                      Head First C#   \n",
       "9                          Monolith to Microservices   \n",
       "\n",
       "                                            Subtitle            Author  \\\n",
       "0  The Big Ideas Behind Reliable, Scalable, and M...  Martin Kleppmann   \n",
       "1     Data Wrangling with Pandas, NumPy, and IPython      Wes McKinney   \n",
       "2                                                           Jim Blandy   \n",
       "3        62 Specific Ways to Improve Your TypeScript     Dan Vanderkam   \n",
       "4  Concepts, Tools, and Techniques to Build Intel...    Aurélien Géron   \n",
       "5                       First Principles with Python         Joel Grus   \n",
       "6                                                           Sam Newman   \n",
       "7                                                       Felix Zumstein   \n",
       "8                                                      Andrew Stellman   \n",
       "9   Evolutionary Patterns to Transform Your Monolith        Sam Newman   \n",
       "\n",
       "        Publisher Publication Year    Price  \n",
       "0  O'Reilly Media             2017  14,34 €  \n",
       "1  O'Reilly Media             2017  17,97 €  \n",
       "2  O'Reilly Media             2021  21,43 €  \n",
       "3  O'Reilly Media             2019  14,34 €  \n",
       "4  O'Reilly Media             2019  25,06 €  \n",
       "5  O'Reilly Media             2019  21,43 €  \n",
       "6  O'Reilly Media             2021  21,43 €  \n",
       "7  O'Reilly Media             2021  21,43 €  \n",
       "8  O'Reilly Media             2020  19,70 €  \n",
       "9  O'Reilly Media             2019  17,97 €  "
      ]
     },
     "execution_count": 20,
     "metadata": {},
     "output_type": "execute_result"
    }
   ],
   "source": [
    "books_df"
   ]
  },
  {
   "cell_type": "markdown",
   "metadata": {},
   "source": [
    "#### Step 9 - Store results in Excel"
   ]
  },
  {
   "cell_type": "code",
   "execution_count": 22,
   "metadata": {},
   "outputs": [],
   "source": [
    "books_df.to_csv('books.csv', index=False)"
   ]
  }
 ],
 "metadata": {
  "kernelspec": {
   "display_name": "Python 3 (ipykernel)",
   "language": "python",
   "name": "python3"
  },
  "language_info": {
   "codemirror_mode": {
    "name": "ipython",
    "version": 3
   },
   "file_extension": ".py",
   "mimetype": "text/x-python",
   "name": "python",
   "nbconvert_exporter": "python",
   "pygments_lexer": "ipython3",
   "version": "3.10.2"
  }
 },
 "nbformat": 4,
 "nbformat_minor": 4
}
